{
  "cells": [
    {
      "cell_type": "markdown",
      "metadata": {
        "id": "view-in-github",
        "colab_type": "text"
      },
      "source": [
        "<a href=\"https://colab.research.google.com/github/Deykoz/Machine-Learning-projects/blob/main/Multiple_Regression_Models.ipynb\" target=\"_parent\"><img src=\"https://colab.research.google.com/assets/colab-badge.svg\" alt=\"Open In Colab\"/></a>"
      ]
    },
    {
      "cell_type": "markdown",
      "source": [
        "# **Find the best regression model**"
      ],
      "metadata": {
        "id": "xVc6RDscUNxc"
      }
    },
    {
      "cell_type": "markdown",
      "source": [
        "The objective of this project is to predict the **Apnea-Hypopnea Index (IAH)** using key features such as **Age, BMI, and Cervical**.\n",
        "\n",
        "We will evaluate the performance of several regression models, including linear and non-linear approaches, to determine which model provides the most accurate predictions.\n",
        "\n",
        "Additionally, we will conduct hyperparameter optimization for each model to ensure that they are fine-tuned for maximum performance. The analysis will focus on comparing model performance using various evaluation metrics (R², MSE, RMSE, MAE) and identifying the most effective model for accurately predicting IAH based on the given features.\n",
        "\n",
        "\n",
        "\n",
        "\n",
        "\n"
      ],
      "metadata": {
        "id": "UZtulyDPUWdO"
      }
    },
    {
      "cell_type": "markdown",
      "source": [
        "# **Linear regression model (Application of the OSA)**"
      ],
      "metadata": {
        "id": "RkDRua_EFdKG"
      }
    },
    {
      "cell_type": "code",
      "source": [
        "import pandas as pd\n",
        "from sklearn.model_selection import train_test_split\n",
        "from sklearn.linear_model import LinearRegression\n",
        "from sklearn.metrics import mean_squared_error, r2_score, mean_absolute_error\n",
        "from sklearn.preprocessing import LabelEncoder\n",
        "import numpy as np\n",
        "\n",
        "# Read the Excel file\n",
        "df = pd.read_excel('OSA_DB_UPM.xlsx')\n",
        "\n",
        "# Create a new column with BMI obtained from Height and Weight\n",
        "df['BMI'] = df['Weight'] / (df['Height'] / 100) ** 2\n",
        "\n",
        "df.head()"
      ],
      "metadata": {
        "colab": {
          "base_uri": "https://localhost:8080/",
          "height": 206
        },
        "id": "6UyC-TgRFBmS",
        "outputId": "66df6da5-e529-41ec-8248-e43befadec0a"
      },
      "execution_count": null,
      "outputs": [
        {
          "output_type": "execute_result",
          "data": {
            "text/plain": [
              "  Patient  Gender   IAH  Weight  Age  Height  Cervical        BMI\n",
              "0   P0002  hombre  29.6     119   56     174      48.0  39.305060\n",
              "1   P0004  hombre  19.7      78   39     168      42.0  27.636054\n",
              "2   P0005  hombre   9.0      80   32     173      40.0  26.729927\n",
              "3   P0006  hombre   2.0     109   32     190      42.0  30.193906\n",
              "4   P0007  hombre  34.0      86   39     169      42.0  30.110991"
            ],
            "text/html": [
              "\n",
              "  <div id=\"df-56963207-cb91-467d-a6d9-6fed0969f1f7\" class=\"colab-df-container\">\n",
              "    <div>\n",
              "<style scoped>\n",
              "    .dataframe tbody tr th:only-of-type {\n",
              "        vertical-align: middle;\n",
              "    }\n",
              "\n",
              "    .dataframe tbody tr th {\n",
              "        vertical-align: top;\n",
              "    }\n",
              "\n",
              "    .dataframe thead th {\n",
              "        text-align: right;\n",
              "    }\n",
              "</style>\n",
              "<table border=\"1\" class=\"dataframe\">\n",
              "  <thead>\n",
              "    <tr style=\"text-align: right;\">\n",
              "      <th></th>\n",
              "      <th>Patient</th>\n",
              "      <th>Gender</th>\n",
              "      <th>IAH</th>\n",
              "      <th>Weight</th>\n",
              "      <th>Age</th>\n",
              "      <th>Height</th>\n",
              "      <th>Cervical</th>\n",
              "      <th>BMI</th>\n",
              "    </tr>\n",
              "  </thead>\n",
              "  <tbody>\n",
              "    <tr>\n",
              "      <th>0</th>\n",
              "      <td>P0002</td>\n",
              "      <td>hombre</td>\n",
              "      <td>29.6</td>\n",
              "      <td>119</td>\n",
              "      <td>56</td>\n",
              "      <td>174</td>\n",
              "      <td>48.0</td>\n",
              "      <td>39.305060</td>\n",
              "    </tr>\n",
              "    <tr>\n",
              "      <th>1</th>\n",
              "      <td>P0004</td>\n",
              "      <td>hombre</td>\n",
              "      <td>19.7</td>\n",
              "      <td>78</td>\n",
              "      <td>39</td>\n",
              "      <td>168</td>\n",
              "      <td>42.0</td>\n",
              "      <td>27.636054</td>\n",
              "    </tr>\n",
              "    <tr>\n",
              "      <th>2</th>\n",
              "      <td>P0005</td>\n",
              "      <td>hombre</td>\n",
              "      <td>9.0</td>\n",
              "      <td>80</td>\n",
              "      <td>32</td>\n",
              "      <td>173</td>\n",
              "      <td>40.0</td>\n",
              "      <td>26.729927</td>\n",
              "    </tr>\n",
              "    <tr>\n",
              "      <th>3</th>\n",
              "      <td>P0006</td>\n",
              "      <td>hombre</td>\n",
              "      <td>2.0</td>\n",
              "      <td>109</td>\n",
              "      <td>32</td>\n",
              "      <td>190</td>\n",
              "      <td>42.0</td>\n",
              "      <td>30.193906</td>\n",
              "    </tr>\n",
              "    <tr>\n",
              "      <th>4</th>\n",
              "      <td>P0007</td>\n",
              "      <td>hombre</td>\n",
              "      <td>34.0</td>\n",
              "      <td>86</td>\n",
              "      <td>39</td>\n",
              "      <td>169</td>\n",
              "      <td>42.0</td>\n",
              "      <td>30.110991</td>\n",
              "    </tr>\n",
              "  </tbody>\n",
              "</table>\n",
              "</div>\n",
              "    <div class=\"colab-df-buttons\">\n",
              "\n",
              "  <div class=\"colab-df-container\">\n",
              "    <button class=\"colab-df-convert\" onclick=\"convertToInteractive('df-56963207-cb91-467d-a6d9-6fed0969f1f7')\"\n",
              "            title=\"Convert this dataframe to an interactive table.\"\n",
              "            style=\"display:none;\">\n",
              "\n",
              "  <svg xmlns=\"http://www.w3.org/2000/svg\" height=\"24px\" viewBox=\"0 -960 960 960\">\n",
              "    <path d=\"M120-120v-720h720v720H120Zm60-500h600v-160H180v160Zm220 220h160v-160H400v160Zm0 220h160v-160H400v160ZM180-400h160v-160H180v160Zm440 0h160v-160H620v160ZM180-180h160v-160H180v160Zm440 0h160v-160H620v160Z\"/>\n",
              "  </svg>\n",
              "    </button>\n",
              "\n",
              "  <style>\n",
              "    .colab-df-container {\n",
              "      display:flex;\n",
              "      gap: 12px;\n",
              "    }\n",
              "\n",
              "    .colab-df-convert {\n",
              "      background-color: #E8F0FE;\n",
              "      border: none;\n",
              "      border-radius: 50%;\n",
              "      cursor: pointer;\n",
              "      display: none;\n",
              "      fill: #1967D2;\n",
              "      height: 32px;\n",
              "      padding: 0 0 0 0;\n",
              "      width: 32px;\n",
              "    }\n",
              "\n",
              "    .colab-df-convert:hover {\n",
              "      background-color: #E2EBFA;\n",
              "      box-shadow: 0px 1px 2px rgba(60, 64, 67, 0.3), 0px 1px 3px 1px rgba(60, 64, 67, 0.15);\n",
              "      fill: #174EA6;\n",
              "    }\n",
              "\n",
              "    .colab-df-buttons div {\n",
              "      margin-bottom: 4px;\n",
              "    }\n",
              "\n",
              "    [theme=dark] .colab-df-convert {\n",
              "      background-color: #3B4455;\n",
              "      fill: #D2E3FC;\n",
              "    }\n",
              "\n",
              "    [theme=dark] .colab-df-convert:hover {\n",
              "      background-color: #434B5C;\n",
              "      box-shadow: 0px 1px 3px 1px rgba(0, 0, 0, 0.15);\n",
              "      filter: drop-shadow(0px 1px 2px rgba(0, 0, 0, 0.3));\n",
              "      fill: #FFFFFF;\n",
              "    }\n",
              "  </style>\n",
              "\n",
              "    <script>\n",
              "      const buttonEl =\n",
              "        document.querySelector('#df-56963207-cb91-467d-a6d9-6fed0969f1f7 button.colab-df-convert');\n",
              "      buttonEl.style.display =\n",
              "        google.colab.kernel.accessAllowed ? 'block' : 'none';\n",
              "\n",
              "      async function convertToInteractive(key) {\n",
              "        const element = document.querySelector('#df-56963207-cb91-467d-a6d9-6fed0969f1f7');\n",
              "        const dataTable =\n",
              "          await google.colab.kernel.invokeFunction('convertToInteractive',\n",
              "                                                    [key], {});\n",
              "        if (!dataTable) return;\n",
              "\n",
              "        const docLinkHtml = 'Like what you see? Visit the ' +\n",
              "          '<a target=\"_blank\" href=https://colab.research.google.com/notebooks/data_table.ipynb>data table notebook</a>'\n",
              "          + ' to learn more about interactive tables.';\n",
              "        element.innerHTML = '';\n",
              "        dataTable['output_type'] = 'display_data';\n",
              "        await google.colab.output.renderOutput(dataTable, element);\n",
              "        const docLink = document.createElement('div');\n",
              "        docLink.innerHTML = docLinkHtml;\n",
              "        element.appendChild(docLink);\n",
              "      }\n",
              "    </script>\n",
              "  </div>\n",
              "\n",
              "\n",
              "<div id=\"df-66d67b40-4c2d-42d4-8fa0-ce1e31f329c4\">\n",
              "  <button class=\"colab-df-quickchart\" onclick=\"quickchart('df-66d67b40-4c2d-42d4-8fa0-ce1e31f329c4')\"\n",
              "            title=\"Suggest charts\"\n",
              "            style=\"display:none;\">\n",
              "\n",
              "<svg xmlns=\"http://www.w3.org/2000/svg\" height=\"24px\"viewBox=\"0 0 24 24\"\n",
              "     width=\"24px\">\n",
              "    <g>\n",
              "        <path d=\"M19 3H5c-1.1 0-2 .9-2 2v14c0 1.1.9 2 2 2h14c1.1 0 2-.9 2-2V5c0-1.1-.9-2-2-2zM9 17H7v-7h2v7zm4 0h-2V7h2v10zm4 0h-2v-4h2v4z\"/>\n",
              "    </g>\n",
              "</svg>\n",
              "  </button>\n",
              "\n",
              "<style>\n",
              "  .colab-df-quickchart {\n",
              "      --bg-color: #E8F0FE;\n",
              "      --fill-color: #1967D2;\n",
              "      --hover-bg-color: #E2EBFA;\n",
              "      --hover-fill-color: #174EA6;\n",
              "      --disabled-fill-color: #AAA;\n",
              "      --disabled-bg-color: #DDD;\n",
              "  }\n",
              "\n",
              "  [theme=dark] .colab-df-quickchart {\n",
              "      --bg-color: #3B4455;\n",
              "      --fill-color: #D2E3FC;\n",
              "      --hover-bg-color: #434B5C;\n",
              "      --hover-fill-color: #FFFFFF;\n",
              "      --disabled-bg-color: #3B4455;\n",
              "      --disabled-fill-color: #666;\n",
              "  }\n",
              "\n",
              "  .colab-df-quickchart {\n",
              "    background-color: var(--bg-color);\n",
              "    border: none;\n",
              "    border-radius: 50%;\n",
              "    cursor: pointer;\n",
              "    display: none;\n",
              "    fill: var(--fill-color);\n",
              "    height: 32px;\n",
              "    padding: 0;\n",
              "    width: 32px;\n",
              "  }\n",
              "\n",
              "  .colab-df-quickchart:hover {\n",
              "    background-color: var(--hover-bg-color);\n",
              "    box-shadow: 0 1px 2px rgba(60, 64, 67, 0.3), 0 1px 3px 1px rgba(60, 64, 67, 0.15);\n",
              "    fill: var(--button-hover-fill-color);\n",
              "  }\n",
              "\n",
              "  .colab-df-quickchart-complete:disabled,\n",
              "  .colab-df-quickchart-complete:disabled:hover {\n",
              "    background-color: var(--disabled-bg-color);\n",
              "    fill: var(--disabled-fill-color);\n",
              "    box-shadow: none;\n",
              "  }\n",
              "\n",
              "  .colab-df-spinner {\n",
              "    border: 2px solid var(--fill-color);\n",
              "    border-color: transparent;\n",
              "    border-bottom-color: var(--fill-color);\n",
              "    animation:\n",
              "      spin 1s steps(1) infinite;\n",
              "  }\n",
              "\n",
              "  @keyframes spin {\n",
              "    0% {\n",
              "      border-color: transparent;\n",
              "      border-bottom-color: var(--fill-color);\n",
              "      border-left-color: var(--fill-color);\n",
              "    }\n",
              "    20% {\n",
              "      border-color: transparent;\n",
              "      border-left-color: var(--fill-color);\n",
              "      border-top-color: var(--fill-color);\n",
              "    }\n",
              "    30% {\n",
              "      border-color: transparent;\n",
              "      border-left-color: var(--fill-color);\n",
              "      border-top-color: var(--fill-color);\n",
              "      border-right-color: var(--fill-color);\n",
              "    }\n",
              "    40% {\n",
              "      border-color: transparent;\n",
              "      border-right-color: var(--fill-color);\n",
              "      border-top-color: var(--fill-color);\n",
              "    }\n",
              "    60% {\n",
              "      border-color: transparent;\n",
              "      border-right-color: var(--fill-color);\n",
              "    }\n",
              "    80% {\n",
              "      border-color: transparent;\n",
              "      border-right-color: var(--fill-color);\n",
              "      border-bottom-color: var(--fill-color);\n",
              "    }\n",
              "    90% {\n",
              "      border-color: transparent;\n",
              "      border-bottom-color: var(--fill-color);\n",
              "    }\n",
              "  }\n",
              "</style>\n",
              "\n",
              "  <script>\n",
              "    async function quickchart(key) {\n",
              "      const quickchartButtonEl =\n",
              "        document.querySelector('#' + key + ' button');\n",
              "      quickchartButtonEl.disabled = true;  // To prevent multiple clicks.\n",
              "      quickchartButtonEl.classList.add('colab-df-spinner');\n",
              "      try {\n",
              "        const charts = await google.colab.kernel.invokeFunction(\n",
              "            'suggestCharts', [key], {});\n",
              "      } catch (error) {\n",
              "        console.error('Error during call to suggestCharts:', error);\n",
              "      }\n",
              "      quickchartButtonEl.classList.remove('colab-df-spinner');\n",
              "      quickchartButtonEl.classList.add('colab-df-quickchart-complete');\n",
              "    }\n",
              "    (() => {\n",
              "      let quickchartButtonEl =\n",
              "        document.querySelector('#df-66d67b40-4c2d-42d4-8fa0-ce1e31f329c4 button');\n",
              "      quickchartButtonEl.style.display =\n",
              "        google.colab.kernel.accessAllowed ? 'block' : 'none';\n",
              "    })();\n",
              "  </script>\n",
              "</div>\n",
              "\n",
              "    </div>\n",
              "  </div>\n"
            ],
            "application/vnd.google.colaboratory.intrinsic+json": {
              "type": "dataframe",
              "variable_name": "df",
              "summary": "{\n  \"name\": \"df\",\n  \"rows\": 637,\n  \"fields\": [\n    {\n      \"column\": \"Patient\",\n      \"properties\": {\n        \"dtype\": \"string\",\n        \"num_unique_values\": 636,\n        \"samples\": [\n          \"P0284\",\n          \"P0677\",\n          \"P0088\"\n        ],\n        \"semantic_type\": \"\",\n        \"description\": \"\"\n      }\n    },\n    {\n      \"column\": \"Gender\",\n      \"properties\": {\n        \"dtype\": \"category\",\n        \"num_unique_values\": 2,\n        \"samples\": [\n          \"mujer\",\n          \"hombre\"\n        ],\n        \"semantic_type\": \"\",\n        \"description\": \"\"\n      }\n    },\n    {\n      \"column\": \"IAH\",\n      \"properties\": {\n        \"dtype\": \"number\",\n        \"std\": 18.59694418503579,\n        \"min\": 0.0,\n        \"max\": 108.6,\n        \"num_unique_values\": 303,\n        \"samples\": [\n          36.8,\n          5.7\n        ],\n        \"semantic_type\": \"\",\n        \"description\": \"\"\n      }\n    },\n    {\n      \"column\": \"Weight\",\n      \"properties\": {\n        \"dtype\": \"number\",\n        \"std\": 18,\n        \"min\": 45,\n        \"max\": 165,\n        \"num_unique_values\": 89,\n        \"samples\": [\n          66,\n          108\n        ],\n        \"semantic_type\": \"\",\n        \"description\": \"\"\n      }\n    },\n    {\n      \"column\": \"Age\",\n      \"properties\": {\n        \"dtype\": \"number\",\n        \"std\": 12,\n        \"min\": 20,\n        \"max\": 88,\n        \"num_unique_values\": 63,\n        \"samples\": [\n          81,\n          23\n        ],\n        \"semantic_type\": \"\",\n        \"description\": \"\"\n      }\n    },\n    {\n      \"column\": \"Height\",\n      \"properties\": {\n        \"dtype\": \"number\",\n        \"std\": 9,\n        \"min\": 144,\n        \"max\": 197,\n        \"num_unique_values\": 51,\n        \"samples\": [\n          151,\n          144\n        ],\n        \"semantic_type\": \"\",\n        \"description\": \"\"\n      }\n    },\n    {\n      \"column\": \"Cervical\",\n      \"properties\": {\n        \"dtype\": \"number\",\n        \"std\": 3.957541510885614,\n        \"min\": 30.0,\n        \"max\": 53.0,\n        \"num_unique_values\": 24,\n        \"samples\": [\n          36.0,\n          43.0\n        ],\n        \"semantic_type\": \"\",\n        \"description\": \"\"\n      }\n    },\n    {\n      \"column\": \"BMI\",\n      \"properties\": {\n        \"dtype\": \"number\",\n        \"std\": 5.619621658381912,\n        \"min\": 18.289894833104707,\n        \"max\": 63.65495158365803,\n        \"num_unique_values\": 520,\n        \"samples\": [\n          30.116213151927443,\n          38.39060559298431\n        ],\n        \"semantic_type\": \"\",\n        \"description\": \"\"\n      }\n    }\n  ]\n}"
            }
          },
          "metadata": {},
          "execution_count": 20
        }
      ]
    },
    {
      "cell_type": "markdown",
      "source": [
        "In order to do the regression, we need to drop the 'Patient' column and to encoder gender as 0 for male and 1 female."
      ],
      "metadata": {
        "id": "Mygfl2pEKc3a"
      }
    },
    {
      "cell_type": "code",
      "source": [
        "# Convert Gender into numerical\n",
        "label_encoder = LabelEncoder()\n",
        "df['Gender'] = label_encoder.fit_transform(df['Gender'])\n",
        "\n",
        "# Define features and target variable\n",
        "X = df[['Gender', 'Age', 'BMI', 'Cervical']]\n",
        "y = df['IAH']\n",
        "\n",
        "# Display unique values and their frequency in 'Gender' column\n",
        "print(df['Gender'].value_counts())"
      ],
      "metadata": {
        "colab": {
          "base_uri": "https://localhost:8080/"
        },
        "id": "BRsB33mbKY_k",
        "outputId": "7a8e36d0-31d0-4510-8de7-4214f0dfb3ae"
      },
      "execution_count": null,
      "outputs": [
        {
          "output_type": "stream",
          "name": "stdout",
          "text": [
            "Gender\n",
            "0    455\n",
            "1    182\n",
            "Name: count, dtype: int64\n"
          ]
        }
      ]
    },
    {
      "cell_type": "markdown",
      "source": [
        "**Training of the model**"
      ],
      "metadata": {
        "id": "5bhZhSGtK10C"
      }
    },
    {
      "cell_type": "code",
      "source": [
        "# Split the data into training and testing sets\n",
        "X_train, X_test, y_train, y_test = train_test_split(X, y, test_size=0.2, random_state=42)\n",
        "\n",
        "# Train the Multiple Linear Regression model\n",
        "model = LinearRegression()\n",
        "model.fit(X_train, y_train)\n",
        "\n",
        "# Predict on the test set\n",
        "y_pred = model.predict(X_test)"
      ],
      "metadata": {
        "id": "rhO-4e_YJ4N3"
      },
      "execution_count": null,
      "outputs": []
    },
    {
      "cell_type": "markdown",
      "source": [
        "**Performance metric of the model**"
      ],
      "metadata": {
        "id": "FVKVgPCUK9jJ"
      }
    },
    {
      "cell_type": "code",
      "source": [
        "# Calculate and print the mean squared error\n",
        "mse = mean_squared_error(y_test, y_pred)\n",
        "print(f'Mean Squared Error: {mse}')\n",
        "\n",
        "# Calculate and print R-squared\n",
        "r2 = r2_score(y_test, y_pred)\n",
        "print(f'R-squared: {r2}')\n",
        "\n",
        "# Calculate and print Mean Absolute Error\n",
        "mae = mean_absolute_error(y_test, y_pred)\n",
        "print(f'Mean Absolute Error: {mae}')\n",
        "\n",
        "# Calculate and print the Root Mean Squared Error\n",
        "rmse = np.sqrt(mean_squared_error(y_test, y_pred))\n",
        "print(f'Root Mean Squared Error: {rmse}')"
      ],
      "metadata": {
        "colab": {
          "base_uri": "https://localhost:8080/"
        },
        "id": "RLTz77k7K8yf",
        "outputId": "03258b1b-97b8-47cc-a725-7a3a33469870"
      },
      "execution_count": null,
      "outputs": [
        {
          "output_type": "stream",
          "name": "stdout",
          "text": [
            "Mean Squared Error: 242.96289927078345\n",
            "R-squared: 0.2566138146563083\n",
            "Mean Absolute Error: 12.21388404888896\n",
            "Root Mean Squared Error: 15.587267216250046\n"
          ]
        }
      ]
    },
    {
      "cell_type": "markdown",
      "source": [
        "**Comments on the performance**"
      ],
      "metadata": {
        "id": "Pf8N7eHsMSGX"
      }
    },
    {
      "cell_type": "markdown",
      "source": [
        " A lower MSE indicates better predictive performance. The MSE value here is relatively high, suggesting that the model has considerable error in predicting the target variable"
      ],
      "metadata": {
        "id": "RitmrIZQGWOf"
      }
    },
    {
      "cell_type": "markdown",
      "source": [
        "An R-squared value of 0.257 means that the modelis able to explain 25.7% of the variance in the target variable. Therefore the model has a relatively low ability to explain the variance in the data. Typically, higher R-squared values (closer to 1) indicate a better fit of the model."
      ],
      "metadata": {
        "id": "k4NWW05SFbar"
      }
    },
    {
      "cell_type": "markdown",
      "source": [
        "The Mean Absolute Error (MAE) represents the average absolute difference between the predicted values and the actual values. Here, the MAE is 12.21, meaning that, on average, the model’s predictions are off by about 12.21 units of the target variable."
      ],
      "metadata": {
        "id": "gwSzlvkGHMgV"
      }
    },
    {
      "cell_type": "markdown",
      "source": [
        "he higher the RMSE, the larger the discrepancies between the predicted and actual values, meaning the model has room for improvement. Given the RMSE value of 15.59, it suggests that the model’s predictions are not highly accurate"
      ],
      "metadata": {
        "id": "u31SRq10MQPr"
      }
    },
    {
      "cell_type": "markdown",
      "source": [
        "**Visualization of the results**"
      ],
      "metadata": {
        "id": "iYTn6qqRLRBl"
      }
    },
    {
      "cell_type": "code",
      "execution_count": null,
      "metadata": {
        "colab": {
          "base_uri": "https://localhost:8080/",
          "height": 564
        },
        "id": "0UWW7BNiEbX7",
        "outputId": "93d8096b-a08e-41ca-bf8e-17b524c09fbc"
      },
      "outputs": [
        {
          "output_type": "display_data",
          "data": {
            "text/plain": [
              "<Figure size 1000x600 with 1 Axes>"
            ],
            "image/png": "[encoded data removed]"
          },
          "metadata": {}
        }
      ],
      "source": [
        "import matplotlib.pyplot as plt\n",
        "\n",
        "# Plot true IAH vs predicted IAH\n",
        "plt.figure(figsize=(10, 6))\n",
        "plt.scatter(y_test, y_pred, color='blue', label='Predicted vs True')\n",
        "plt.plot([y_test.min(), y_test.max()], [y_test.min(), y_test.max()], color='red', lw=2, label='Ideal Fit')\n",
        "plt.xlabel('True IAH')\n",
        "plt.ylabel('Predicted IAH')\n",
        "plt.title('True IAH vs Predicted IAH')\n",
        "plt.legend()\n",
        "plt.show()"
      ]
    },
    {
      "cell_type": "markdown",
      "source": [
        "To verify that our model is capturing some useful patterns and is performing better than a random guess. We will compare it with a naïve predictor"
      ],
      "metadata": {
        "id": "qdGnp4ReNIHx"
      }
    },
    {
      "cell_type": "markdown",
      "source": [
        "**Naïve predictor**"
      ],
      "metadata": {
        "id": "ho5cTS76NbcW"
      }
    },
    {
      "cell_type": "markdown",
      "source": [
        "The naïve predictor, always predict the mean of the data"
      ],
      "metadata": {
        "id": "ykfXOgAYNm0v"
      }
    },
    {
      "cell_type": "code",
      "source": [
        "\n",
        "# Calculate the mean of the target variable in the training set\n",
        "naive_prediction = y_train.mean()\n",
        "\n",
        "# Create an array of naive predictions for the test set\n",
        "naive_predictions = np.full(len(y_test), naive_prediction)\n",
        "\n",
        "# Calculate performance metrics for the naive predictor\n",
        "mse_naive = mean_squared_error(y_test, naive_predictions)\n",
        "r2_naive = r2_score(y_test, naive_predictions)\n",
        "mae_naive = mean_absolute_error(y_test, naive_predictions)\n",
        "rmse_naive = np.sqrt(mse_naive)\n",
        "\n",
        "print(f'Naive Predictor Mean Squared Error: {mse_naive}')\n",
        "print(f'Naive Predictor R-squared: {r2_naive}')\n",
        "print(f'Naive Predictor Mean Absolute Error: {mae_naive}')\n",
        "print(f'Naive Predictor Root Mean Squared Error: {rmse_naive}')\n",
        "\n",
        "# Plot true IAH vs naive predictions\n",
        "plt.figure(figsize=(10, 6))\n",
        "plt.scatter(y_test, naive_predictions, color='green', label='Naive Predictions')\n",
        "plt.plot([y_test.min(), y_test.max()], [y_test.min(), y_test.max()], color='red', lw=2, label='Ideal Fit')\n",
        "plt.xlabel('True IAH')\n",
        "plt.ylabel('Naive Predicted IAH')\n",
        "plt.title('True IAH vs Naive Predicted IAH')\n",
        "plt.legend()\n",
        "plt.show()"
      ],
      "metadata": {
        "colab": {
          "base_uri": "https://localhost:8080/",
          "height": 633
        },
        "id": "32ESroc7Ns2T",
        "outputId": "5d619854-0390-4339-e040-ce2387e43349"
      },
      "execution_count": null,
      "outputs": [
        {
          "output_type": "stream",
          "name": "stdout",
          "text": [
            "Naive Predictor Mean Squared Error: 327.2588229720749\n",
            "Naive Predictor R-squared: -0.0013038565124330326\n",
            "Naive Predictor Mean Absolute Error: 14.784436087917484\n",
            "Naive Predictor Root Mean Squared Error: 18.09029637601537\n"
          ]
        },
        {
          "output_type": "display_data",
          "data": {
            "text/plain": [
              "<Figure size 1000x600 with 1 Axes>"
            ],
            "image/png": "[encoded data removed]"
          },
          "metadata": {}
        }
      ]
    },
    {
      "cell_type": "markdown",
      "source": [
        "**Cross validation metrics**"
      ],
      "metadata": {
        "id": "kr0iy1GfPQKO"
      }
    },
    {
      "cell_type": "markdown",
      "source": [
        "To get more reliable metrics, we will use the cross validation."
      ],
      "metadata": {
        "id": "sT2cGj_jPUKI"
      }
    },
    {
      "cell_type": "code",
      "source": [
        "import pandas as pd\n",
        "from sklearn.model_selection import train_test_split, cross_val_score, KFold\n",
        "from sklearn.linear_model import LinearRegression\n",
        "from sklearn.metrics import mean_squared_error, r2_score, mean_absolute_error\n",
        "from sklearn.preprocessing import LabelEncoder\n",
        "import numpy as np\n",
        "import matplotlib.pyplot as plt\n",
        "\n",
        "# Define features (X) and target variable (y)\n",
        "X = df[['Gender', 'Age', 'BMI', 'Cervical']]\n",
        "y = df['IAH']\n",
        "\n",
        "# Define the number of folds for cross-validation\n",
        "n_splits = 5  # You can adjust this value\n",
        "kf = KFold(n_splits=n_splits, shuffle=True, random_state=42)\n",
        "\n",
        "# Initialize lists to store evaluation metrics\n",
        "r2_scores = []\n",
        "mse_scores = []\n",
        "rmse_scores = []\n",
        "mae_scores = []\n",
        "\n",
        "# Perform cross-validation\n",
        "for train_index, test_index in kf.split(X):\n",
        "    X_train, X_test = X.iloc[train_index], X.iloc[test_index]\n",
        "    y_train, y_test = y.iloc[train_index], y.iloc[test_index]\n",
        "\n",
        "    model = LinearRegression()\n",
        "    model.fit(X_train, y_train)\n",
        "    y_pred = model.predict(X_test)\n",
        "\n",
        "    r2_scores.append(r2_score(y_test, y_pred))\n",
        "    mse_scores.append(mean_squared_error(y_test, y_pred))\n",
        "    rmse_scores.append(np.sqrt(mean_squared_error(y_test, y_pred)))\n",
        "    mae_scores.append(mean_absolute_error(y_test, y_pred))\n",
        "\n",
        "# Calculate the average metrics across all folds\n",
        "avg_r2 = np.mean(r2_scores)\n",
        "avg_mse = np.mean(mse_scores)\n",
        "avg_rmse = np.mean(rmse_scores)\n",
        "avg_mae = np.mean(mae_scores)\n",
        "\n",
        "print(f'Average Mean Squared Error: {avg_mse}')\n",
        "print(f'Average R-squared: {avg_r2}')\n",
        "print(f'Average Root Mean Squared Error: {avg_rmse}')\n",
        "print(f'Average Mean Absolute Error: {avg_mae}')"
      ],
      "metadata": {
        "colab": {
          "base_uri": "https://localhost:8080/"
        },
        "id": "-oF8MpwOOUPb",
        "outputId": "131aea62-5f48-412c-8390-d6840bad4ec0"
      },
      "execution_count": null,
      "outputs": [
        {
          "output_type": "stream",
          "name": "stdout",
          "text": [
            "Average Mean Squared Error: 272.0454003897513\n",
            "Average R-squared: 0.21308783070011503\n",
            "Average Root Mean Squared Error: 16.47007140511483\n",
            "Average Mean Absolute Error: 12.459672128941522\n"
          ]
        }
      ]
    },
    {
      "cell_type": "markdown",
      "source": [
        "Summary"
      ],
      "metadata": {
        "id": "6BO922xXSIpM"
      }
    },
    {
      "cell_type": "code",
      "source": [
        "import pandas as pd\n",
        "from sklearn.model_selection import train_test_split\n",
        "from sklearn.linear_model import LinearRegression\n",
        "from sklearn.metrics import mean_squared_error, r2_score, mean_absolute_error\n",
        "from sklearn.preprocessing import LabelEncoder\n",
        "import numpy as np\n",
        "import matplotlib.pyplot as plt\n",
        "from sklearn.model_selection import train_test_split, cross_val_score, KFold\n",
        "from sklearn.metrics import mean_squared_error, r2_score, mean_absolute_error\n",
        "\n",
        "\n",
        "# Calculate and print the standard deviation for each metric\n",
        "def print_metrics_with_std(y_true, y_pred, prefix=\"\"):\n",
        "    mse = mean_squared_error(y_true, y_pred)\n",
        "    r2 = r2_score(y_true, y_pred)\n",
        "    mae = mean_absolute_error(y_true, y_pred)\n",
        "    rmse = np.sqrt(mse)\n",
        "\n",
        "    print(f'{prefix}Mean Squared Error: {mse:.4f}')\n",
        "    print(f'{prefix}R-squared: {r2:.4f}')\n",
        "    print(f'{prefix}Mean Absolute Error: {mae:.4f}')\n",
        "    print(f'{prefix}Root Mean Squared Error: {rmse:.4f}')\n",
        "\n",
        "#initial model\n",
        "print_metrics_with_std(y_test, y_pred, prefix=\"Initial Model \")\n",
        "\n",
        "print(\"\\n\")\n",
        "\n",
        "#Cross Validation\n",
        "# Calculate the average metrics across all folds\n",
        "avg_r2 = np.mean(r2_scores)\n",
        "avg_mse = np.mean(mse_scores)\n",
        "avg_rmse = np.mean(rmse_scores)\n",
        "avg_mae = np.mean(mae_scores)\n",
        "\n",
        "std_r2 = np.std(r2_scores)\n",
        "std_mse = np.std(mse_scores)\n",
        "std_rmse = np.std(rmse_scores)\n",
        "std_mae = np.std(mae_scores)\n",
        "\n",
        "print(f'Average Mean Squared Error: {avg_mse:.4f} (std: {std_mse:.4f})')\n",
        "print(f'Average R-squared: {avg_r2:.4f} (std: {std_r2:.4f})')\n",
        "print(f'Average Root Mean Squared Error: {avg_rmse:.4f} (std: {std_rmse:.4f})')\n",
        "print(f'Average Mean Absolute Error: {avg_mae:.4f} (std: {std_mae:.4f})')\n",
        "\n",
        "print(\"\\n\")\n",
        "\n",
        "#Naive predictor cross validation\n",
        "# Calculate the average metrics across all folds for the naive predictor\n",
        "avg_r2_naive = np.mean(r2_scores_naive)\n",
        "avg_mse_naive = np.mean(mse_scores_naive)\n",
        "avg_rmse_naive = np.mean(rmse_scores_naive)\n",
        "avg_mae_naive = np.mean(mae_scores_naive)\n",
        "\n",
        "std_r2_naive = np.std(r2_scores_naive)\n",
        "std_mse_naive = np.std(mse_scores_naive)\n",
        "std_rmse_naive = np.std(rmse_scores_naive)\n",
        "std_mae_naive = np.std(mae_scores_naive)\n",
        "\n",
        "print(f'Naive Predictor Average Mean Squared Error: {avg_mse_naive:.4f} (std: {std_mse_naive:.4f})')\n",
        "print(f'Naive Predictor Average R-squared: {avg_r2_naive:.4f} (std: {std_r2_naive:.4f})')\n",
        "print(f'Naive Predictor Average Root Mean Squared Error: {avg_rmse_naive:.4f} (std: {std_rmse_naive:.4f})')\n",
        "print(f'Naive Predictor Average Mean Absolute Error: {avg_mae_naive:.4f} (std: {std_mae_naive:.4f})')"
      ],
      "metadata": {
        "colab": {
          "base_uri": "https://localhost:8080/"
        },
        "id": "zneDWTmNQ9ay",
        "outputId": "201b1c56-ced2-4f94-8eee-e03f75a9f1af"
      },
      "execution_count": null,
      "outputs": [
        {
          "output_type": "stream",
          "name": "stdout",
          "text": [
            "Initial Model Mean Squared Error: 308.5915\n",
            "Initial Model R-squared: 0.1156\n",
            "Initial Model Mean Absolute Error: 12.7770\n",
            "Initial Model Root Mean Squared Error: 17.5668\n",
            "\n",
            "\n",
            "Average Mean Squared Error: 272.0454 (std: 29.1042)\n",
            "Average R-squared: 0.2131 (std: 0.0570)\n",
            "Average Root Mean Squared Error: 16.4701 (std: 0.8844)\n",
            "Average Mean Absolute Error: 12.4597 (std: 0.3703)\n",
            "\n",
            "\n",
            "Naive Predictor Average Mean Squared Error: 345.3766 (std: 20.4125)\n",
            "Naive Predictor Average R-squared: -0.0005 (std: 0.0006)\n",
            "Naive Predictor Average Root Mean Squared Error: 18.5761 (std: 0.5512)\n",
            "Naive Predictor Average Mean Absolute Error: 14.5100 (std: 0.4299)\n"
          ]
        }
      ]
    },
    {
      "cell_type": "code",
      "source": [
        "# Define features and target variable\n",
        "X = df[['Gender', 'Age', 'BMI', 'Cervical']]\n",
        "y = df['IAH']\n",
        "\n",
        "# Define the number of folds for cross-validation\n",
        "n_splits = 5\n",
        "kf = KFold(n_splits=n_splits, shuffle=True, random_state=42)\n",
        "\n",
        "\n",
        "def calculate_metrics(y_true, y_pred):\n",
        "    r2 = r2_score(y_true, y_pred)\n",
        "    mse = mean_squared_error(y_true, y_pred)\n",
        "    rmse = np.sqrt(mse)\n",
        "    mae = mean_absolute_error(y_true, y_pred)\n",
        "    return r2, mse, rmse, mae\n",
        "\n",
        "\n",
        "for gender in [0, 1]:  # Iterate through genders\n",
        "    print(f\"\\nResults for Gender = {gender}\")\n",
        "\n",
        "    # Filter data for the current gender\n",
        "    X_gender = X[X['Gender'] == gender]\n",
        "    y_gender = y[X['Gender'] == gender]\n",
        "\n",
        "    if len(X_gender) < 2:  # handle cases where there are too few datapoints for a given gender\n",
        "      print(\"Not enough data points for this gender\")\n",
        "      continue\n",
        "\n",
        "    r2_scores = []\n",
        "    mse_scores = []\n",
        "    rmse_scores = []\n",
        "    mae_scores = []\n",
        "\n",
        "    for train_index, test_index in kf.split(X_gender):\n",
        "        X_train, X_test = X_gender.iloc[train_index], X_gender.iloc[test_index]\n",
        "        y_train, y_test = y_gender.iloc[train_index], y_gender.iloc[test_index]\n",
        "\n",
        "        model = LinearRegression()\n",
        "        model.fit(X_train, y_train)\n",
        "        y_pred = model.predict(X_test)\n",
        "\n",
        "        r2, mse, rmse, mae = calculate_metrics(y_test, y_pred)\n",
        "\n",
        "        r2_scores.append(r2)\n",
        "        mse_scores.append(mse)\n",
        "        rmse_scores.append(rmse)\n",
        "        mae_scores.append(mae)\n",
        "\n",
        "    print(f\"R2: {np.mean(r2_scores):.4f} ({np.std(r2_scores):.4f})\")\n",
        "    print(f\"MSE: {np.mean(mse_scores):.4f} ({np.std(mse_scores):.4f})\")\n",
        "    print(f\"RMSE: {np.mean(rmse_scores):.4f} ({np.std(rmse_scores):.4f})\")\n",
        "    print(f\"MAE: {np.mean(mae_scores):.4f} ({np.std(mae_scores):.4f})\")"
      ],
      "metadata": {
        "colab": {
          "base_uri": "https://localhost:8080/"
        },
        "id": "Hr7IWo__Ss9_",
        "outputId": "74b2c923-745a-4e93-a191-060d18dde121"
      },
      "execution_count": null,
      "outputs": [
        {
          "output_type": "stream",
          "name": "stdout",
          "text": [
            "\n",
            "Results for Gender = 0\n",
            "R2: 0.2027 (0.0409)\n",
            "MSE: 267.7641 (30.6405)\n",
            "RMSE: 16.3344 (0.9753)\n",
            "MAE: 12.8744 (0.7603)\n",
            "\n",
            "Results for Gender = 1\n",
            "R2: -0.0360 (0.1106)\n",
            "MSE: 320.1022 (190.8111)\n",
            "RMSE: 17.2707 (4.6717)\n",
            "MAE: 11.8275 (1.8750)\n"
          ]
        }
      ]
    },
    {
      "cell_type": "markdown",
      "source": [
        "**Coefficients of the model**"
      ],
      "metadata": {
        "id": "XEWey1pXUCpQ"
      }
    },
    {
      "cell_type": "code",
      "source": [
        "# Get the coefficients and intercept\n",
        "coefficients = model.coef_\n",
        "intercept = model.intercept_\n",
        "\n",
        "# Get the feature names\n",
        "feature_names = X.columns\n",
        "\n",
        "# Print the coefficients with corresponding feature names\n",
        "print(\"Coefficients:\")\n",
        "for coef, feature in zip(coefficients, feature_names):\n",
        "    print(f\"{feature}: {coef}\")\n",
        "\n",
        "print(f\"\\nIntercept: {intercept}\")"
      ],
      "metadata": {
        "colab": {
          "base_uri": "https://localhost:8080/"
        },
        "id": "ThQ8o6ZsTRSJ",
        "outputId": "383fc7c2-4b02-480b-e827-e1c0c6a606ae"
      },
      "execution_count": null,
      "outputs": [
        {
          "output_type": "stream",
          "name": "stdout",
          "text": [
            "Coefficients:\n",
            "Gender: 0.0\n",
            "Age: 0.21565890267092402\n",
            "BMI: 0.5474193039448972\n",
            "Cervical: 1.547412983236107\n",
            "\n",
            "Intercept: -68.74953891246476\n"
          ]
        }
      ]
    },
    {
      "cell_type": "markdown",
      "source": [
        "**Function for display the performance metrics**"
      ],
      "metadata": {
        "id": "Gpn9x6lW1q4i"
      }
    },
    {
      "cell_type": "code",
      "source": [
        "import numpy as np\n",
        "from sklearn.metrics import mean_squared_error, r2_score, mean_absolute_error\n",
        "\n",
        "def print_metrics_with_std(y_true, y_pred, prefix=\"\"):\n",
        "    # Calcul des résidus (erreurs de prédiction)\n",
        "    residuals = y_true - y_pred\n",
        "\n",
        "    mse = mean_squared_error(y_true, y_pred)\n",
        "    r2 = r2_score(y_true, y_pred)\n",
        "    mae = mean_absolute_error(y_true, y_pred)\n",
        "    rmse = np.sqrt(mse)\n",
        "\n",
        "    # Calcul de l'écart type des résidus\n",
        "\n",
        "    std_mae = np.std(np.abs(residuals))  # Écart type des résidus absolus pour MAE\n",
        "    std_rmse = np.std(np.sqrt(np.abs(residuals)))  # Écart type des racines carrées des résidus pour RMSE\n",
        "\n",
        "    print(f'{prefix}Mean Squared Error: {mse:.4f}')\n",
        "    print(f'{prefix}R-squared: {r2:.4f}')\n",
        "    print(f'{prefix}Mean Absolute Error: {mae:.4f} (Std: {std_mae:.4f})')\n",
        "    print(f'{prefix}Root Mean Squared Error: {rmse:.4f} (Std: {std_rmse:.4f})')"
      ],
      "metadata": {
        "id": "bHUbSfoCBqQ2"
      },
      "execution_count": null,
      "outputs": []
    },
    {
      "cell_type": "markdown",
      "source": [
        "# **Linear Regression model**"
      ],
      "metadata": {
        "id": "mVCOUG8WNuS8"
      }
    },
    {
      "cell_type": "code",
      "source": [
        "from sklearn.preprocessing import StandardScaler\n",
        "from sklearn.model_selection import GridSearchCV\n",
        "\n",
        "columns_to_normalize = ['Age', 'BMI', 'Cervical']\n",
        "\n",
        "# Créer un objet StandardScaler\n",
        "scaler = StandardScaler()\n",
        "\n",
        "# Appliquer la normalisation sur les colonnes sélectionnées\n",
        "df[columns_to_normalize] = scaler.fit_transform(df[columns_to_normalize])\n",
        "\n",
        "# Vérifier les résultats\n",
        "\n",
        "# Define features and target variable\n",
        "X = df[['Age', 'BMI', 'Cervical']]\n",
        "y = df['IAH']\n",
        "\n",
        "# Split data into training and testing sets\n",
        "X_train, X_test, y_train, y_test = train_test_split(X, y, test_size=0.2, random_state=42)\n",
        "\n",
        "# Define the parameter grid for Linear Regression (even though it doesn't have hyperparameters to tune directly)\n",
        "param_grid = {} # Empty dictionary for Linear Regression\n",
        "\n",
        "# Create a Linear Regression model\n",
        "model = LinearRegression()\n",
        "\n",
        "# Perform GridSearchCV (It will still do cross-validation even without hyperparameters to tune)\n",
        "grid_search = GridSearchCV(model, param_grid, cv=5, scoring='neg_mean_squared_error')\n",
        "grid_search.fit(X_train, y_train)\n",
        "\n",
        "# Print the best hyperparameters (it will simply show the default parameters as there are none to tune)\n",
        "print(\"Best hyperparameters:\", grid_search.best_params_)\n",
        "\n",
        "\n",
        "# Train the final model using the best hyperparameters (which are the default in this case)\n",
        "best_model = LinearRegression(**grid_search.best_params_)\n",
        "best_model.fit(X_train, y_train)\n",
        "\n",
        "# Make predictions on the test set\n",
        "y_pred_linear = best_model.predict(X_test)\n",
        "\n",
        "# Evaluate the model\n",
        "print_metrics_with_std(y_test, y_pred_linear, prefix=\"Linear Regression with best params \")"
      ],
      "metadata": {
        "colab": {
          "base_uri": "https://localhost:8080/"
        },
        "id": "GcvmrYu-KYDu",
        "outputId": "2312d0de-64dd-4126-c778-ac7198e927cc"
      },
      "execution_count": null,
      "outputs": [
        {
          "output_type": "stream",
          "name": "stdout",
          "text": [
            "Best hyperparameters: {}\n",
            "Linear Regression with best params Mean Squared Error: 243.0135\n",
            "Linear Regression with best params R-squared: 0.2565\n",
            "Linear Regression with best params Mean Absolute Error: 12.2154 (Std: 9.6849)\n",
            "Linear Regression with best params Root Mean Squared Error: 15.5889 (Std: 1.3568)\n"
          ]
        }
      ]
    },
    {
      "cell_type": "markdown",
      "source": [
        "**Comments :**"
      ],
      "metadata": {
        "id": "-HbgG0fSSseX"
      }
    },
    {
      "cell_type": "markdown",
      "source": [
        "R² of 0.256 indicates that the model explains only 25.6% of the variance in the target variable (IAH). This suggests that the linear regression model is not very effective at predicting IAH with the given features.\n",
        "The MSE, RMSE, and MAE values are relatively high, which indicates significant errors in predictions, suggesting the model struggles to make accurate predictions."
      ],
      "metadata": {
        "id": "9BKzduubSuxL"
      }
    },
    {
      "cell_type": "markdown",
      "source": [
        "# **Ridge regression**"
      ],
      "metadata": {
        "id": "rWGu_rMR1lMp"
      }
    },
    {
      "cell_type": "code",
      "source": [
        "#Train and test a Ridge regression model to predict the IAH with those features, predictors: Age, BMI, Cervical\n",
        "\n",
        "from sklearn.linear_model import Ridge\n",
        "from sklearn.model_selection import GridSearchCV\n",
        "from sklearn.preprocessing import StandardScaler\n",
        "\n",
        "\n",
        "columns_to_normalize = ['Age', 'BMI', 'Cervical']\n",
        "\n",
        "# Créer un objet StandardScaler\n",
        "scaler = StandardScaler()\n",
        "\n",
        "# Appliquer la normalisation sur les colonnes sélectionnées\n",
        "df[columns_to_normalize] = scaler.fit_transform(df[columns_to_normalize])\n",
        "\n",
        "# Define features and target variable\n",
        "\n",
        "X = df[['Age', 'BMI', 'Cervical']]\n",
        "y = df['IAH']\n",
        "\n",
        "# Split data into training and testing sets\n",
        "X_train, X_test, y_train, y_test = train_test_split(X, y, test_size=0.2, random_state=42)\n",
        "\n",
        "# Define the parameter grid for Ridge regression\n",
        "param_grid = {'alpha': [0.001, 0.01, 0.1, 1, 10, 100, 200]}\n",
        "\n",
        "# Create a Ridge regression model\n",
        "ridge = Ridge()\n",
        "\n",
        "# Perform GridSearchCV to find the best alpha value\n",
        "grid_search = GridSearchCV(ridge, param_grid, cv=5, scoring='neg_mean_squared_error')\n",
        "grid_search.fit(X_train, y_train)\n",
        "\n",
        "# Print the best hyperparameters\n",
        "print(\"Best hyperparameters:\", grid_search.best_params_)\n",
        "\n",
        "# Train a Ridge regression model with the best alpha\n",
        "best_ridge_model = Ridge(alpha=grid_search.best_params_['alpha'])\n",
        "best_ridge_model.fit(X_train, y_train)\n",
        "\n",
        "# Make predictions on the test set\n",
        "y_pred_ridge = best_ridge_model.predict(X_test)\n",
        "\n",
        "# Evaluate the Ridge regression model\n",
        "print_metrics_with_std(y_test, y_pred_ridge, prefix=\"Ridge Regression \")"
      ],
      "metadata": {
        "colab": {
          "base_uri": "https://localhost:8080/"
        },
        "id": "cytO-uLI17C9",
        "outputId": "dd0fdf96-0dc7-45fe-8a59-ad8b3bfc0c73"
      },
      "execution_count": null,
      "outputs": [
        {
          "output_type": "stream",
          "name": "stdout",
          "text": [
            "Best hyperparameters: {'alpha': 10}\n",
            "Ridge Regression Mean Squared Error: 243.0733\n",
            "Ridge Regression R-squared: 0.2563\n",
            "Ridge Regression Mean Absolute Error: 12.2282 (Std: 9.6719)\n",
            "Ridge Regression Root Mean Squared Error: 15.5908 (Std: 1.3521)\n"
          ]
        }
      ]
    },
    {
      "cell_type": "markdown",
      "source": [
        "**Comments :**"
      ],
      "metadata": {
        "id": "dyxKmTIrTHZP"
      }
    },
    {
      "cell_type": "markdown",
      "source": [
        "The performance of Ridge Regression is almost identical to Linear Regression. The R² is slightly lower at 0.256, which is a negligible difference, indicating that the addition of L2 regularization does not provide a significant improvement for this dataset.\n",
        "The error metrics (MSE, RMSE, MAE) are nearly identical to those of Linear Regression, confirming that regularization does not significantly affect the model's performance in this case."
      ],
      "metadata": {
        "id": "Rh6ULRbVTI0p"
      }
    },
    {
      "cell_type": "markdown",
      "source": [
        "# **Lasso Regression Model**"
      ],
      "metadata": {
        "id": "04iq8gub320E"
      }
    },
    {
      "cell_type": "code",
      "source": [
        "#Train and test a Lasso regression model to predict the IAH with those features, predictors: Age, BMI, Cervical\n",
        "\n",
        "from sklearn.linear_model import Lasso\n",
        "from sklearn.model_selection import GridSearchCV\n",
        "from sklearn.preprocessing import StandardScaler\n",
        "\n",
        "columns_to_normalize = ['Age', 'BMI', 'Cervical']\n",
        "\n",
        "# Créer un objet StandardScaler\n",
        "scaler = StandardScaler()\n",
        "\n",
        "# Appliquer la normalisation sur les colonnes sélectionnées\n",
        "df[columns_to_normalize] = scaler.fit_transform(df[columns_to_normalize])\n",
        "\n",
        "# Define features and target variable\n",
        "X = df[['Age', 'BMI', 'Cervical']]\n",
        "y = df['IAH']\n",
        "\n",
        "# Split data into training and testing sets\n",
        "X_train, X_test, y_train, y_test = train_test_split(X, y, test_size=0.2, random_state=42)\n",
        "\n",
        "# Define the parameter grid for Lasso regression\n",
        "param_grid = {'alpha': [0.001, 0.01, 0.1, 1, 10, 100]}\n",
        "\n",
        "# Create a Lasso regression model\n",
        "lasso = Lasso()\n",
        "\n",
        "# Perform GridSearchCV to find the best alpha value\n",
        "grid_search = GridSearchCV(lasso, param_grid, cv=5, scoring='neg_mean_squared_error')\n",
        "grid_search.fit(X_train, y_train)\n",
        "\n",
        "# Print the best hyperparameters\n",
        "print(\"Best hyperparameters:\", grid_search.best_params_)\n",
        "\n",
        "# Train a Lasso regression model with the best alpha\n",
        "best_lasso_model = Lasso(alpha=grid_search.best_params_['alpha'])\n",
        "best_lasso_model.fit(X_train, y_train)\n",
        "\n",
        "# Make predictions on the test set\n",
        "y_pred_lasso = best_lasso_model.predict(X_test)\n",
        "\n",
        "# Evaluate the Lasso regression model\n",
        "print_metrics_with_std(y_test, y_pred_lasso, prefix=\"Lasso Regression \")"
      ],
      "metadata": {
        "colab": {
          "base_uri": "https://localhost:8080/"
        },
        "id": "AdHIdGXj3jH3",
        "outputId": "13f5bd23-7986-4f8d-a628-8299e89cab33"
      },
      "execution_count": null,
      "outputs": [
        {
          "output_type": "stream",
          "name": "stdout",
          "text": [
            "Best hyperparameters: {'alpha': 0.1}\n",
            "Lasso Regression Mean Squared Error: 243.3500\n",
            "Lasso Regression R-squared: 0.2554\n",
            "Lasso Regression Mean Absolute Error: 12.2363 (Std: 9.6759)\n",
            "Lasso Regression Root Mean Squared Error: 15.5997 (Std: 1.3488)\n"
          ]
        }
      ]
    },
    {
      "cell_type": "markdown",
      "source": [
        "**Comments :**"
      ],
      "metadata": {
        "id": "IBqyOakTTPDp"
      }
    },
    {
      "cell_type": "markdown",
      "source": [
        "Similar to Linear Regression and Ridge Regression, Lasso Regression also performs quite similarly with an R² of 0.255. The difference in performance is minimal, which suggests that the L1 regularization does not provide a significant benefit for this particular dataset.\n",
        "The error metrics (MSE, RMSE, MAE) are also almost identical, indicating that Lasso doesn't improve predictions in this context either."
      ],
      "metadata": {
        "id": "ssLuL0SvTP3n"
      }
    },
    {
      "cell_type": "markdown",
      "source": [
        "# **Elastic Net Regression**"
      ],
      "metadata": {
        "id": "3QLO8lH44PS0"
      }
    },
    {
      "cell_type": "code",
      "source": [
        "#Train and test a Elastic Net Regression model to predict the IAH with those features, predictors: Age, BMI, Cervical\n",
        "\n",
        "from sklearn.linear_model import ElasticNet\n",
        "from sklearn.preprocessing import StandardScaler\n",
        "\n",
        "columns_to_normalize = ['Age', 'BMI', 'Cervical']\n",
        "\n",
        "# Créer un objet StandardScaler\n",
        "scaler = StandardScaler()\n",
        "\n",
        "# Appliquer la normalisation sur les colonnes sélectionnées\n",
        "df[columns_to_normalize] = scaler.fit_transform(df[columns_to_normalize])\n",
        "\n",
        "# Define features and target variable\n",
        "X = df[['Age', 'BMI', 'Cervical']]\n",
        "y = df['IAH']\n",
        "\n",
        "# Split data into training and testing sets\n",
        "X_train, X_test, y_train, y_test = train_test_split(X, y, test_size=0.2, random_state=42)\n",
        "\n",
        "# Define the parameter grid for Elastic Net regression\n",
        "param_grid = {'alpha': [0.001, 0.01, 0.1, 1, 10, 100], 'l1_ratio': [0.1, 0.3, 0.5, 0.7, 0.9]}\n",
        "\n",
        "# Create an Elastic Net regression model\n",
        "elastic_net = ElasticNet()\n",
        "\n",
        "# Perform GridSearchCV to find the best hyperparameters\n",
        "grid_search = GridSearchCV(elastic_net, param_grid, cv=5, scoring='neg_mean_squared_error')\n",
        "grid_search.fit(X_train, y_train)\n",
        "\n",
        "# Print the best hyperparameters\n",
        "print(\"Best hyperparameters:\", grid_search.best_params_)\n",
        "\n",
        "# Train an Elastic Net regression model with the best hyperparameters\n",
        "best_elastic_net_model = ElasticNet(alpha=grid_search.best_params_['alpha'], l1_ratio=grid_search.best_params_['l1_ratio'])\n",
        "best_elastic_net_model.fit(X_train, y_train)\n",
        "\n",
        "# Make predictions on the test set\n",
        "y_pred_elastic_net = best_elastic_net_model.predict(X_test)\n",
        "\n",
        "# Evaluate the Elastic Net regression model\n",
        "print_metrics_with_std(y_test, y_pred_elastic_net, prefix=\"Elastic Net Regression \")"
      ],
      "metadata": {
        "colab": {
          "base_uri": "https://localhost:8080/"
        },
        "id": "qmWNZwl24TtJ",
        "outputId": "3f76147e-d57f-4332-9d8d-632ed4f5d063"
      },
      "execution_count": null,
      "outputs": [
        {
          "output_type": "stream",
          "name": "stdout",
          "text": [
            "Best hyperparameters: {'alpha': 0.1, 'l1_ratio': 0.3}\n",
            "Elastic Net Regression Mean Squared Error: 243.4796\n",
            "Elastic Net Regression R-squared: 0.2550\n",
            "Elastic Net Regression Mean Absolute Error: 12.2697 (Std: 9.6402)\n",
            "Elastic Net Regression Root Mean Squared Error: 15.6038 (Std: 1.3434)\n"
          ]
        }
      ]
    },
    {
      "cell_type": "markdown",
      "source": [
        "**Comments**"
      ],
      "metadata": {
        "id": "YgJrOvfUTUUH"
      }
    },
    {
      "cell_type": "markdown",
      "source": [
        "Elastic Net Regression (which combines L1 and L2 regularization) also shows performance nearly identical to that of Lasso and Ridge. The R² of 0.255 is slightly lower than the other models, suggesting that this model may not capture the underlying patterns in the data better than the others.\n",
        "As with the other regularized models, the error metrics are close to those of Linear Regression, suggesting that regularization does not significantly affect the model’s ability to predict IAH in this case."
      ],
      "metadata": {
        "id": "x0ezPCihTYUz"
      }
    },
    {
      "cell_type": "markdown",
      "source": [
        "# **Polynomial Regression**"
      ],
      "metadata": {
        "id": "_wpzUHR34wqf"
      }
    },
    {
      "cell_type": "code",
      "source": [
        "from sklearn.preprocessing import PolynomialFeatures\n",
        "from sklearn.preprocessing import StandardScaler\n",
        "\n",
        "columns_to_normalize = ['Age', 'BMI', 'Cervical']\n",
        "\n",
        "# Créer un objet StandardScaler\n",
        "scaler = StandardScaler()\n",
        "\n",
        "# Appliquer la normalisation sur les colonnes sélectionnées\n",
        "df[columns_to_normalize] = scaler.fit_transform(df[columns_to_normalize])\n",
        "\n",
        "# Define features and target variable\n",
        "X = df[['Age', 'BMI', 'Cervical']]\n",
        "y = df['IAH']\n",
        "\n",
        "# Split data into training and testing sets\n",
        "X_train, X_test, y_train, y_test = train_test_split(X, y, test_size=0.2, random_state=42)\n",
        "\n",
        "# Define the parameter grid for Polynomial Regression\n",
        "param_grid = {'poly__degree': [2, 3, 4]} # You can adjust the degree range\n",
        "\n",
        "# Create a Polynomial Regression model\n",
        "poly_reg = PolynomialFeatures()\n",
        "linear_model = LinearRegression()\n",
        "\n",
        "# Create a pipeline\n",
        "from sklearn.pipeline import Pipeline\n",
        "\n",
        "pipeline = Pipeline([\n",
        "    ('poly', poly_reg),\n",
        "    ('linear', linear_model)\n",
        "])\n",
        "\n",
        "# Perform GridSearchCV to find the best degree\n",
        "grid_search = GridSearchCV(pipeline, param_grid=param_grid, cv=5, scoring='neg_mean_squared_error')\n",
        "grid_search.fit(X_train, y_train)\n",
        "\n",
        "# Print the best hyperparameters\n",
        "print(\"Best hyperparameters:\", grid_search.best_params_)\n",
        "\n",
        "# Train a Polynomial Regression model with the best degree\n",
        "best_poly_model = grid_search.best_estimator_\n",
        "\n",
        "# Make predictions on the test set\n",
        "y_pred_poly = best_poly_model.predict(X_test)\n",
        "\n",
        "# Evaluate the polynomial regression model\n",
        "print_metrics_with_std(y_test, y_pred_poly, prefix=\"Polynomial Regression with Best Degree \")"
      ],
      "metadata": {
        "colab": {
          "base_uri": "https://localhost:8080/"
        },
        "id": "zvrWGCED4_eE",
        "outputId": "3a0edcf6-2e12-4940-b7e5-98e79665be3f"
      },
      "execution_count": null,
      "outputs": [
        {
          "output_type": "stream",
          "name": "stdout",
          "text": [
            "Best hyperparameters: {'poly__degree': 2}\n",
            "Polynomial Regression with Best Degree Mean Squared Error: 238.3468\n",
            "Polynomial Regression with Best Degree R-squared: 0.2707\n",
            "Polynomial Regression with Best Degree Mean Absolute Error: 12.0686 (Std: 9.6279)\n",
            "Polynomial Regression with Best Degree Root Mean Squared Error: 15.4385 (Std: 1.3064)\n"
          ]
        }
      ]
    },
    {
      "cell_type": "markdown",
      "source": [
        "**Comments:**"
      ],
      "metadata": {
        "id": "GxYf-yqTTf_Z"
      }
    },
    {
      "cell_type": "markdown",
      "source": [
        "Polynomial Regression outperforms all the other models with a R² of 0.271, which means it explains around 27.1% of the variance in the target variable. While still not a very high R², it shows a slight improvement compared to the linear models.\n",
        "The MSE, RMSE, and MAE are also slightly better than those of the other models, indicating that the Polynomial Regression model is able to capture some non-linear patterns in the data, leading to better predictions."
      ],
      "metadata": {
        "id": "jBviBxk2TpXq"
      }
    },
    {
      "cell_type": "markdown",
      "source": [
        "# **Random Forest Regression**"
      ],
      "metadata": {
        "id": "IdZAMBLD62ek"
      }
    },
    {
      "cell_type": "code",
      "source": [
        "from sklearn.ensemble import RandomForestRegressor\n",
        "from sklearn.model_selection import GridSearchCV\n",
        "from sklearn.preprocessing import StandardScaler\n",
        "\n",
        "columns_to_normalize = ['Age', 'BMI', 'Cervical']\n",
        "\n",
        "# Créer un objet StandardScaler\n",
        "scaler = StandardScaler()\n",
        "\n",
        "# Appliquer la normalisation sur les colonnes sélectionnées\n",
        "df[columns_to_normalize] = scaler.fit_transform(df[columns_to_normalize])\n",
        "# Define features and target variable\n",
        "X = df[['Age', 'BMI', 'Cervical']]\n",
        "y = df['IAH']\n",
        "\n",
        "# Split data into training and testing sets\n",
        "X_train, X_test, y_train, y_test = train_test_split(X, y, test_size=0.2, random_state=42)\n",
        "\n",
        "# Define the parameter grid for Random Forest Regression\n",
        "param_grid = {\n",
        "    'n_estimators': [50, 100, 200],  # Number of trees\n",
        "    'max_depth': [None, 10, 20],     # Maximum depth of each tree\n",
        "    'min_samples_split': [2, 5, 10]  # Minimum samples required to split a node\n",
        "}\n",
        "\n",
        "# Create a Random Forest Regression model\n",
        "rf_regressor = RandomForestRegressor(random_state=42)\n",
        "\n",
        "# Perform GridSearchCV to find the best hyperparameters\n",
        "grid_search = GridSearchCV(rf_regressor, param_grid, cv=5, scoring='neg_mean_squared_error')\n",
        "grid_search.fit(X_train, y_train)\n",
        "\n",
        "# Print the best hyperparameters\n",
        "print(\"Best hyperparameters:\", grid_search.best_params_)\n",
        "\n",
        "# Train a Random Forest Regression model with the best hyperparameters\n",
        "best_rf_model = grid_search.best_estimator_\n",
        "\n",
        "# Make predictions on the test set\n",
        "y_pred_rf = best_rf_model.predict(X_test)\n",
        "\n",
        "# Evaluate the Random Forest Regression model\n",
        "print_metrics_with_std(y_test, y_pred_rf, prefix=\"Random Forest Regression \")"
      ],
      "metadata": {
        "colab": {
          "base_uri": "https://localhost:8080/"
        },
        "id": "ZGYM0QDU67jD",
        "outputId": "ba469a1a-8229-4f12-d926-32ccd336c3dc"
      },
      "execution_count": null,
      "outputs": [
        {
          "output_type": "stream",
          "name": "stdout",
          "text": [
            "Best hyperparameters: {'max_depth': 10, 'min_samples_split': 10, 'n_estimators': 100}\n",
            "Random Forest Regression Mean Squared Error: 268.2684\n",
            "Random Forest Regression R-squared: 0.1792\n",
            "Random Forest Regression Mean Absolute Error: 12.5184 (Std: 10.5621)\n",
            "Random Forest Regression Root Mean Squared Error: 16.3789 (Std: 1.3948)\n"
          ]
        }
      ]
    },
    {
      "cell_type": "markdown",
      "source": [
        "**Comments:**"
      ],
      "metadata": {
        "id": "UbsgIKelTrSq"
      }
    },
    {
      "cell_type": "markdown",
      "source": [
        "Random Forest Regression performs the worst among all the models with an R² of 0.179, meaning it explains only 17.9% of the variance in the IAH. This is quite low compared to the other models, especially since Random Forest is generally considered a powerful model for capturing complex relationships.\n",
        "The MSE, RMSE, and MAE are the highest among all the models, suggesting that the Random Forest model is overfitting or not well-tuned for this particular dataset. This could be due to excessive complexity or a poor choice of hyperparameters."
      ],
      "metadata": {
        "id": "Dl1OSi0OTvI7"
      }
    },
    {
      "cell_type": "markdown",
      "source": [
        "# **Final results**"
      ],
      "metadata": {
        "id": "d9kQhZ44N0YX"
      }
    },
    {
      "cell_type": "code",
      "source": [
        "import pandas as pd\n",
        "import numpy as np\n",
        "from sklearn.metrics import mean_squared_error, r2_score, mean_absolute_error\n",
        "\n",
        "def calculate_metrics(y_true, y_pred):\n",
        "    r2 = r2_score(y_true, y_pred)\n",
        "    mse = mean_squared_error(y_true, y_pred)\n",
        "    rmse = np.sqrt(mse)\n",
        "    mae = mean_absolute_error(y_true, y_pred)\n",
        "    return r2, mse, rmse, mae\n",
        "\n",
        "# Assuming you have your models and predictions stored as follows:\n",
        "# Replace these with your actual models and predictions (from your provided code)\n",
        "\n",
        "models = {\n",
        "    \"Linear Regression\": (y_test, y_pred_linear),\n",
        "    \"Ridge Regression\": (y_test, y_pred_ridge),\n",
        "    \"Lasso Regression\": (y_test, y_pred_lasso),\n",
        "    \"Elastic Net Regression\": (y_test, y_pred_elastic_net),\n",
        "    \"Polynomial Regression\": (y_test, y_pred_poly),\n",
        "    \"Random Forest Regression\": (y_test, y_pred_rf)\n",
        "}\n",
        "\n",
        "\n",
        "metrics_data = []\n",
        "for model_name, (y_true, y_pred) in models.items():\n",
        "    r2, mse, rmse, mae = calculate_metrics(y_true, y_pred)\n",
        "\n",
        "    # Calculate standard deviations for each metric\n",
        "    residuals = y_true - y_pred\n",
        "    std_mae = np.std(np.abs(residuals))  # Écart type des résidus absolus pour MAE\n",
        "    std_rmse = np.std(np.sqrt(np.abs(residuals)))  # Écart type des racines carrées des résidus pour RMSE\n",
        "\n",
        "\n",
        "    metrics_data.append([model_name, r2, mse, rmse, std_rmse, mae, std_mae])\n",
        "\n",
        "\n",
        "metrics_df = pd.DataFrame(metrics_data, columns=[\"Model\", \"R2\", \"MSE\",\"RMSE\", \"std_RMSE\", \"MAE\", \"std_MAE\"])\n",
        "metrics_df"
      ],
      "metadata": {
        "colab": {
          "base_uri": "https://localhost:8080/",
          "height": 238
        },
        "id": "vvV7fPPJIcpU",
        "outputId": "2ff43c5f-1b1f-4af4-9ecc-ca4805711be5"
      },
      "execution_count": null,
      "outputs": [
        {
          "output_type": "execute_result",
          "data": {
            "text/plain": [
              "                      Model        R2         MSE       RMSE  std_RMSE  \\\n",
              "0         Linear Regression  0.256459  243.013451  15.588889  1.356809   \n",
              "1          Ridge Regression  0.256276  243.073327  15.590809  1.352138   \n",
              "2          Lasso Regression  0.255429  243.350012  15.599680  1.348775   \n",
              "3    Elastic Net Regression  0.255033  243.479571  15.603832  1.343433   \n",
              "4     Polynomial Regression  0.270738  238.346756  15.438483  1.306413   \n",
              "5  Random Forest Regression  0.179187  268.268353  16.378900  1.394812   \n",
              "\n",
              "         MAE    std_MAE  \n",
              "0  12.215381   9.684933  \n",
              "1  12.228165   9.671882  \n",
              "2  12.236281   9.675920  \n",
              "3  12.269703   9.640226  \n",
              "4  12.068597   9.627862  \n",
              "5  12.518402  10.562100  "
            ],
            "text/html": [
              "\n",
              "  <div id=\"df-7471c02a-1068-48cc-83a6-7ed3b0d403f1\" class=\"colab-df-container\">\n",
              "    <div>\n",
              "<style scoped>\n",
              "    .dataframe tbody tr th:only-of-type {\n",
              "        vertical-align: middle;\n",
              "    }\n",
              "\n",
              "    .dataframe tbody tr th {\n",
              "        vertical-align: top;\n",
              "    }\n",
              "\n",
              "    .dataframe thead th {\n",
              "        text-align: right;\n",
              "    }\n",
              "</style>\n",
              "<table border=\"1\" class=\"dataframe\">\n",
              "  <thead>\n",
              "    <tr style=\"text-align: right;\">\n",
              "      <th></th>\n",
              "      <th>Model</th>\n",
              "      <th>R2</th>\n",
              "      <th>MSE</th>\n",
              "      <th>RMSE</th>\n",
              "      <th>std_RMSE</th>\n",
              "      <th>MAE</th>\n",
              "      <th>std_MAE</th>\n",
              "    </tr>\n",
              "  </thead>\n",
              "  <tbody>\n",
              "    <tr>\n",
              "      <th>0</th>\n",
              "      <td>Linear Regression</td>\n",
              "      <td>0.256459</td>\n",
              "      <td>243.013451</td>\n",
              "      <td>15.588889</td>\n",
              "      <td>1.356809</td>\n",
              "      <td>12.215381</td>\n",
              "      <td>9.684933</td>\n",
              "    </tr>\n",
              "    <tr>\n",
              "      <th>1</th>\n",
              "      <td>Ridge Regression</td>\n",
              "      <td>0.256276</td>\n",
              "      <td>243.073327</td>\n",
              "      <td>15.590809</td>\n",
              "      <td>1.352138</td>\n",
              "      <td>12.228165</td>\n",
              "      <td>9.671882</td>\n",
              "    </tr>\n",
              "    <tr>\n",
              "      <th>2</th>\n",
              "      <td>Lasso Regression</td>\n",
              "      <td>0.255429</td>\n",
              "      <td>243.350012</td>\n",
              "      <td>15.599680</td>\n",
              "      <td>1.348775</td>\n",
              "      <td>12.236281</td>\n",
              "      <td>9.675920</td>\n",
              "    </tr>\n",
              "    <tr>\n",
              "      <th>3</th>\n",
              "      <td>Elastic Net Regression</td>\n",
              "      <td>0.255033</td>\n",
              "      <td>243.479571</td>\n",
              "      <td>15.603832</td>\n",
              "      <td>1.343433</td>\n",
              "      <td>12.269703</td>\n",
              "      <td>9.640226</td>\n",
              "    </tr>\n",
              "    <tr>\n",
              "      <th>4</th>\n",
              "      <td>Polynomial Regression</td>\n",
              "      <td>0.270738</td>\n",
              "      <td>238.346756</td>\n",
              "      <td>15.438483</td>\n",
              "      <td>1.306413</td>\n",
              "      <td>12.068597</td>\n",
              "      <td>9.627862</td>\n",
              "    </tr>\n",
              "    <tr>\n",
              "      <th>5</th>\n",
              "      <td>Random Forest Regression</td>\n",
              "      <td>0.179187</td>\n",
              "      <td>268.268353</td>\n",
              "      <td>16.378900</td>\n",
              "      <td>1.394812</td>\n",
              "      <td>12.518402</td>\n",
              "      <td>10.562100</td>\n",
              "    </tr>\n",
              "  </tbody>\n",
              "</table>\n",
              "</div>\n",
              "    <div class=\"colab-df-buttons\">\n",
              "\n",
              "  <div class=\"colab-df-container\">\n",
              "    <button class=\"colab-df-convert\" onclick=\"convertToInteractive('df-7471c02a-1068-48cc-83a6-7ed3b0d403f1')\"\n",
              "            title=\"Convert this dataframe to an interactive table.\"\n",
              "            style=\"display:none;\">\n",
              "\n",
              "  <svg xmlns=\"http://www.w3.org/2000/svg\" height=\"24px\" viewBox=\"0 -960 960 960\">\n",
              "    <path d=\"M120-120v-720h720v720H120Zm60-500h600v-160H180v160Zm220 220h160v-160H400v160Zm0 220h160v-160H400v160ZM180-400h160v-160H180v160Zm440 0h160v-160H620v160ZM180-180h160v-160H180v160Zm440 0h160v-160H620v160Z\"/>\n",
              "  </svg>\n",
              "    </button>\n",
              "\n",
              "  <style>\n",
              "    .colab-df-container {\n",
              "      display:flex;\n",
              "      gap: 12px;\n",
              "    }\n",
              "\n",
              "    .colab-df-convert {\n",
              "      background-color: #E8F0FE;\n",
              "      border: none;\n",
              "      border-radius: 50%;\n",
              "      cursor: pointer;\n",
              "      display: none;\n",
              "      fill: #1967D2;\n",
              "      height: 32px;\n",
              "      padding: 0 0 0 0;\n",
              "      width: 32px;\n",
              "    }\n",
              "\n",
              "    .colab-df-convert:hover {\n",
              "      background-color: #E2EBFA;\n",
              "      box-shadow: 0px 1px 2px rgba(60, 64, 67, 0.3), 0px 1px 3px 1px rgba(60, 64, 67, 0.15);\n",
              "      fill: #174EA6;\n",
              "    }\n",
              "\n",
              "    .colab-df-buttons div {\n",
              "      margin-bottom: 4px;\n",
              "    }\n",
              "\n",
              "    [theme=dark] .colab-df-convert {\n",
              "      background-color: #3B4455;\n",
              "      fill: #D2E3FC;\n",
              "    }\n",
              "\n",
              "    [theme=dark] .colab-df-convert:hover {\n",
              "      background-color: #434B5C;\n",
              "      box-shadow: 0px 1px 3px 1px rgba(0, 0, 0, 0.15);\n",
              "      filter: drop-shadow(0px 1px 2px rgba(0, 0, 0, 0.3));\n",
              "      fill: #FFFFFF;\n",
              "    }\n",
              "  </style>\n",
              "\n",
              "    <script>\n",
              "      const buttonEl =\n",
              "        document.querySelector('#df-7471c02a-1068-48cc-83a6-7ed3b0d403f1 button.colab-df-convert');\n",
              "      buttonEl.style.display =\n",
              "        google.colab.kernel.accessAllowed ? 'block' : 'none';\n",
              "\n",
              "      async function convertToInteractive(key) {\n",
              "        const element = document.querySelector('#df-7471c02a-1068-48cc-83a6-7ed3b0d403f1');\n",
              "        const dataTable =\n",
              "          await google.colab.kernel.invokeFunction('convertToInteractive',\n",
              "                                                    [key], {});\n",
              "        if (!dataTable) return;\n",
              "\n",
              "        const docLinkHtml = 'Like what you see? Visit the ' +\n",
              "          '<a target=\"_blank\" href=https://colab.research.google.com/notebooks/data_table.ipynb>data table notebook</a>'\n",
              "          + ' to learn more about interactive tables.';\n",
              "        element.innerHTML = '';\n",
              "        dataTable['output_type'] = 'display_data';\n",
              "        await google.colab.output.renderOutput(dataTable, element);\n",
              "        const docLink = document.createElement('div');\n",
              "        docLink.innerHTML = docLinkHtml;\n",
              "        element.appendChild(docLink);\n",
              "      }\n",
              "    </script>\n",
              "  </div>\n",
              "\n",
              "\n",
              "<div id=\"df-d17b65f1-628d-4763-9da4-237e8cbf0f0a\">\n",
              "  <button class=\"colab-df-quickchart\" onclick=\"quickchart('df-d17b65f1-628d-4763-9da4-237e8cbf0f0a')\"\n",
              "            title=\"Suggest charts\"\n",
              "            style=\"display:none;\">\n",
              "\n",
              "<svg xmlns=\"http://www.w3.org/2000/svg\" height=\"24px\"viewBox=\"0 0 24 24\"\n",
              "     width=\"24px\">\n",
              "    <g>\n",
              "        <path d=\"M19 3H5c-1.1 0-2 .9-2 2v14c0 1.1.9 2 2 2h14c1.1 0 2-.9 2-2V5c0-1.1-.9-2-2-2zM9 17H7v-7h2v7zm4 0h-2V7h2v10zm4 0h-2v-4h2v4z\"/>\n",
              "    </g>\n",
              "</svg>\n",
              "  </button>\n",
              "\n",
              "<style>\n",
              "  .colab-df-quickchart {\n",
              "      --bg-color: #E8F0FE;\n",
              "      --fill-color: #1967D2;\n",
              "      --hover-bg-color: #E2EBFA;\n",
              "      --hover-fill-color: #174EA6;\n",
              "      --disabled-fill-color: #AAA;\n",
              "      --disabled-bg-color: #DDD;\n",
              "  }\n",
              "\n",
              "  [theme=dark] .colab-df-quickchart {\n",
              "      --bg-color: #3B4455;\n",
              "      --fill-color: #D2E3FC;\n",
              "      --hover-bg-color: #434B5C;\n",
              "      --hover-fill-color: #FFFFFF;\n",
              "      --disabled-bg-color: #3B4455;\n",
              "      --disabled-fill-color: #666;\n",
              "  }\n",
              "\n",
              "  .colab-df-quickchart {\n",
              "    background-color: var(--bg-color);\n",
              "    border: none;\n",
              "    border-radius: 50%;\n",
              "    cursor: pointer;\n",
              "    display: none;\n",
              "    fill: var(--fill-color);\n",
              "    height: 32px;\n",
              "    padding: 0;\n",
              "    width: 32px;\n",
              "  }\n",
              "\n",
              "  .colab-df-quickchart:hover {\n",
              "    background-color: var(--hover-bg-color);\n",
              "    box-shadow: 0 1px 2px rgba(60, 64, 67, 0.3), 0 1px 3px 1px rgba(60, 64, 67, 0.15);\n",
              "    fill: var(--button-hover-fill-color);\n",
              "  }\n",
              "\n",
              "  .colab-df-quickchart-complete:disabled,\n",
              "  .colab-df-quickchart-complete:disabled:hover {\n",
              "    background-color: var(--disabled-bg-color);\n",
              "    fill: var(--disabled-fill-color);\n",
              "    box-shadow: none;\n",
              "  }\n",
              "\n",
              "  .colab-df-spinner {\n",
              "    border: 2px solid var(--fill-color);\n",
              "    border-color: transparent;\n",
              "    border-bottom-color: var(--fill-color);\n",
              "    animation:\n",
              "      spin 1s steps(1) infinite;\n",
              "  }\n",
              "\n",
              "  @keyframes spin {\n",
              "    0% {\n",
              "      border-color: transparent;\n",
              "      border-bottom-color: var(--fill-color);\n",
              "      border-left-color: var(--fill-color);\n",
              "    }\n",
              "    20% {\n",
              "      border-color: transparent;\n",
              "      border-left-color: var(--fill-color);\n",
              "      border-top-color: var(--fill-color);\n",
              "    }\n",
              "    30% {\n",
              "      border-color: transparent;\n",
              "      border-left-color: var(--fill-color);\n",
              "      border-top-color: var(--fill-color);\n",
              "      border-right-color: var(--fill-color);\n",
              "    }\n",
              "    40% {\n",
              "      border-color: transparent;\n",
              "      border-right-color: var(--fill-color);\n",
              "      border-top-color: var(--fill-color);\n",
              "    }\n",
              "    60% {\n",
              "      border-color: transparent;\n",
              "      border-right-color: var(--fill-color);\n",
              "    }\n",
              "    80% {\n",
              "      border-color: transparent;\n",
              "      border-right-color: var(--fill-color);\n",
              "      border-bottom-color: var(--fill-color);\n",
              "    }\n",
              "    90% {\n",
              "      border-color: transparent;\n",
              "      border-bottom-color: var(--fill-color);\n",
              "    }\n",
              "  }\n",
              "</style>\n",
              "\n",
              "  <script>\n",
              "    async function quickchart(key) {\n",
              "      const quickchartButtonEl =\n",
              "        document.querySelector('#' + key + ' button');\n",
              "      quickchartButtonEl.disabled = true;  // To prevent multiple clicks.\n",
              "      quickchartButtonEl.classList.add('colab-df-spinner');\n",
              "      try {\n",
              "        const charts = await google.colab.kernel.invokeFunction(\n",
              "            'suggestCharts', [key], {});\n",
              "      } catch (error) {\n",
              "        console.error('Error during call to suggestCharts:', error);\n",
              "      }\n",
              "      quickchartButtonEl.classList.remove('colab-df-spinner');\n",
              "      quickchartButtonEl.classList.add('colab-df-quickchart-complete');\n",
              "    }\n",
              "    (() => {\n",
              "      let quickchartButtonEl =\n",
              "        document.querySelector('#df-d17b65f1-628d-4763-9da4-237e8cbf0f0a button');\n",
              "      quickchartButtonEl.style.display =\n",
              "        google.colab.kernel.accessAllowed ? 'block' : 'none';\n",
              "    })();\n",
              "  </script>\n",
              "</div>\n",
              "\n",
              "  <div id=\"id_4f8fcc98-ab96-491c-99ee-7e9add2703ca\">\n",
              "    <style>\n",
              "      .colab-df-generate {\n",
              "        background-color: #E8F0FE;\n",
              "        border: none;\n",
              "        border-radius: 50%;\n",
              "        cursor: pointer;\n",
              "        display: none;\n",
              "        fill: #1967D2;\n",
              "        height: 32px;\n",
              "        padding: 0 0 0 0;\n",
              "        width: 32px;\n",
              "      }\n",
              "\n",
              "      .colab-df-generate:hover {\n",
              "        background-color: #E2EBFA;\n",
              "        box-shadow: 0px 1px 2px rgba(60, 64, 67, 0.3), 0px 1px 3px 1px rgba(60, 64, 67, 0.15);\n",
              "        fill: #174EA6;\n",
              "      }\n",
              "\n",
              "      [theme=dark] .colab-df-generate {\n",
              "        background-color: #3B4455;\n",
              "        fill: #D2E3FC;\n",
              "      }\n",
              "\n",
              "      [theme=dark] .colab-df-generate:hover {\n",
              "        background-color: #434B5C;\n",
              "        box-shadow: 0px 1px 3px 1px rgba(0, 0, 0, 0.15);\n",
              "        filter: drop-shadow(0px 1px 2px rgba(0, 0, 0, 0.3));\n",
              "        fill: #FFFFFF;\n",
              "      }\n",
              "    </style>\n",
              "    <button class=\"colab-df-generate\" onclick=\"generateWithVariable('metrics_df')\"\n",
              "            title=\"Generate code using this dataframe.\"\n",
              "            style=\"display:none;\">\n",
              "\n",
              "  <svg xmlns=\"http://www.w3.org/2000/svg\" height=\"24px\"viewBox=\"0 0 24 24\"\n",
              "       width=\"24px\">\n",
              "    <path d=\"M7,19H8.4L18.45,9,17,7.55,7,17.6ZM5,21V16.75L18.45,3.32a2,2,0,0,1,2.83,0l1.4,1.43a1.91,1.91,0,0,1,.58,1.4,1.91,1.91,0,0,1-.58,1.4L9.25,21ZM18.45,9,17,7.55Zm-12,3A5.31,5.31,0,0,0,4.9,8.1,5.31,5.31,0,0,0,1,6.5,5.31,5.31,0,0,0,4.9,4.9,5.31,5.31,0,0,0,6.5,1,5.31,5.31,0,0,0,8.1,4.9,5.31,5.31,0,0,0,12,6.5,5.46,5.46,0,0,0,6.5,12Z\"/>\n",
              "  </svg>\n",
              "    </button>\n",
              "    <script>\n",
              "      (() => {\n",
              "      const buttonEl =\n",
              "        document.querySelector('#id_4f8fcc98-ab96-491c-99ee-7e9add2703ca button.colab-df-generate');\n",
              "      buttonEl.style.display =\n",
              "        google.colab.kernel.accessAllowed ? 'block' : 'none';\n",
              "\n",
              "      buttonEl.onclick = () => {\n",
              "        google.colab.notebook.generateWithVariable('metrics_df');\n",
              "      }\n",
              "      })();\n",
              "    </script>\n",
              "  </div>\n",
              "\n",
              "    </div>\n",
              "  </div>\n"
            ],
            "application/vnd.google.colaboratory.intrinsic+json": {
              "type": "dataframe",
              "variable_name": "metrics_df",
              "summary": "{\n  \"name\": \"metrics_df\",\n  \"rows\": 6,\n  \"fields\": [\n    {\n      \"column\": \"Model\",\n      \"properties\": {\n        \"dtype\": \"string\",\n        \"num_unique_values\": 6,\n        \"samples\": [\n          \"Linear Regression\",\n          \"Ridge Regression\",\n          \"Random Forest Regression\"\n        ],\n        \"semantic_type\": \"\",\n        \"description\": \"\"\n      }\n    },\n    {\n      \"column\": \"R2\",\n      \"properties\": {\n        \"dtype\": \"number\",\n        \"std\": 0.03304536617850508,\n        \"min\": 0.1791874894207658,\n        \"max\": 0.2707376864848374,\n        \"num_unique_values\": 6,\n        \"samples\": [\n          0.25645914190398067,\n          0.2562759433456928,\n          0.1791874894207658\n        ],\n        \"semantic_type\": \"\",\n        \"description\": \"\"\n      }\n    },\n    {\n      \"column\": \"MSE\",\n      \"properties\": {\n        \"dtype\": \"number\",\n        \"std\": 10.800305591477072,\n        \"min\": 238.34675638833016,\n        \"max\": 268.2683526542261,\n        \"num_unique_values\": 6,\n        \"samples\": [\n          243.01345138095797,\n          243.07332665674517,\n          268.2683526542261\n        ],\n        \"semantic_type\": \"\",\n        \"description\": \"\"\n      }\n    },\n    {\n      \"column\": \"RMSE\",\n      \"properties\": {\n        \"dtype\": \"number\",\n        \"std\": 0.3384897611481394,\n        \"min\": 15.438482969136901,\n        \"max\": 16.378899616708875,\n        \"num_unique_values\": 6,\n        \"samples\": [\n          15.588888715394628,\n          15.590809044329456,\n          16.378899616708875\n        ],\n        \"semantic_type\": \"\",\n        \"description\": \"\"\n      }\n    },\n    {\n      \"column\": \"std_RMSE\",\n      \"properties\": {\n        \"dtype\": \"number\",\n        \"std\": 0.028293374927264747,\n        \"min\": 1.30641265327332,\n        \"max\": 1.3948118574012847,\n        \"num_unique_values\": 6,\n        \"samples\": [\n          1.356809217913721,\n          1.3521382540715676,\n          1.3948118574012847\n        ],\n        \"semantic_type\": \"\",\n        \"description\": \"\"\n      }\n    },\n    {\n      \"column\": \"MAE\",\n      \"properties\": {\n        \"dtype\": \"number\",\n        \"std\": 0.146271098099172,\n        \"min\": 12.068596722036105,\n        \"max\": 12.518402178265319,\n        \"num_unique_values\": 6,\n        \"samples\": [\n          12.21538068157657,\n          12.228165068266987,\n          12.518402178265319\n        ],\n        \"semantic_type\": \"\",\n        \"description\": \"\"\n      }\n    },\n    {\n      \"column\": \"std_MAE\",\n      \"properties\": {\n        \"dtype\": \"number\",\n        \"std\": 0.36887566204330663,\n        \"min\": 9.627862148430955,\n        \"max\": 10.562100148996326,\n        \"num_unique_values\": 6,\n        \"samples\": [\n          9.684932946857398,\n          9.67188222219234,\n          10.562100148996326\n        ],\n        \"semantic_type\": \"\",\n        \"description\": \"\"\n      }\n    }\n  ]\n}"
            }
          },
          "metadata": {},
          "execution_count": 42
        }
      ]
    },
    {
      "cell_type": "markdown",
      "source": [
        "The Best Model is the Polynomial Regression model performs the best, with a R² of 0.271, showing it captures some non-linear relationships between the features and IAH more effectively than the linear models. It also produces slightly better error metrics (MSE, RMSE, and MAE).\n",
        "\n",
        "Linear Models: Linear Regression, Ridge, Lasso, and Elastic Net have very similar performance. They all have low R² values (around 0.25), indicating that these models are not well-suited to predicting IAH with the given features. Regularization did not significantly improve the performance of the models.\n",
        "\n",
        "The Random Forest Regression model, despite being a more complex model, performs poorly with a very low R² and high errors. This could indicate overfitting, underfitting, or suboptimal hyperparameter choices. It would be worth investigating its hyperparameters and considering other ensemble methods or tuning strategies."
      ],
      "metadata": {
        "id": "-h4HOiS7Tzdk"
      }
    }
  ],
  "metadata": {
    "kernelspec": {
      "display_name": "base",
      "language": "python",
      "name": "python3"
    },
    "language_info": {
      "codemirror_mode": {
        "name": "ipython",
        "version": 3
      },
      "file_extension": ".py",
      "mimetype": "text/x-python",
      "name": "python",
      "nbconvert_exporter": "python",
      "pygments_lexer": "ipython3",
      "version": "3.11.0"
    },
    "colab": {
      "provenance": [],
      "toc_visible": true,
      "include_colab_link": true
    }
  },
  "nbformat": 4,
  "nbformat_minor": 0
}